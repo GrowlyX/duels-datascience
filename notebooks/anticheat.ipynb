{
 "cells": [
  {
   "cell_type": "code",
   "execution_count": 123,
   "metadata": {
    "collapsed": true,
    "ExecuteTime": {
     "end_time": "2023-11-20T02:37:56.726644200Z",
     "start_time": "2023-11-20T02:37:50.183829600Z"
    }
   },
   "outputs": [
    {
     "data": {
      "text/html": "   <div id=\"cfXWO8\"></div>\n   <script type=\"text/javascript\" data-lets-plot-script=\"library\">\n       if(!window.letsPlotCallQueue) {\n           window.letsPlotCallQueue = [];\n       }; \n       window.letsPlotCall = function(f) {\n           window.letsPlotCallQueue.push(f);\n       };\n       (function() {\n           var script = document.createElement(\"script\");\n           script.type = \"text/javascript\";\n           script.src = \"https://cdn.jsdelivr.net/gh/JetBrains/lets-plot@v4.1.0/js-package/distr/lets-plot.min.js\";\n           script.onload = function() {\n               window.letsPlotCall = function(f) {f();};\n               window.letsPlotCallQueue.forEach(function(f) {f();});\n               window.letsPlotCallQueue = [];\n               \n               \n           };\n           script.onerror = function(event) {\n               window.letsPlotCall = function(f) {};\n               window.letsPlotCallQueue = [];\n               var div = document.createElement(\"div\");\n               div.style.color = 'darkred';\n               div.textContent = 'Error loading Lets-Plot JS';\n               document.getElementById(\"cfXWO8\").appendChild(div);\n           };\n           var e = document.getElementById(\"cfXWO8\");\n           e.appendChild(script);\n       })();\n   </script>"
     },
     "metadata": {},
     "output_type": "display_data"
    }
   ],
   "source": [
    "%useLatestDescriptors\n",
    "%use lets-plot"
   ]
  },
  {
   "cell_type": "code",
   "execution_count": 124,
   "outputs": [],
   "source": [
    "import org.litote.kmongo.serialization.SerializationClassMappingTypeService\n",
    "import com.mongodb.client.MongoClients\n",
    "import org.litote.kmongo.withKMongo\n",
    "import java.io.File\n",
    "import java.util.*\n",
    "\n",
    "System.setProperty(\n",
    "    \"org.litote.mongo.mapping.service\",\n",
    "    SerializationClassMappingTypeService::class.qualifiedName!!\n",
    ")\n",
    "\n",
    "val properties = Properties()\n",
    "properties.load(\n",
    "    File(\"G:\\\\Organizations\\\\Duels\\\\duels-datascience\\\\dfl.properties\").reader()\n",
    ")\n",
    "\n",
    "val mongoConnectionUri = properties.getProperty(\"mongo.clients.uri\")\n",
    "val mongo = MongoClients.create(mongoConnectionUri)\n",
    "\n",
    "val database = mongo.getDatabase(\"duels_anticheat\").withKMongo()\n"
   ],
   "metadata": {
    "collapsed": false,
    "ExecuteTime": {
     "end_time": "2023-11-20T02:37:56.920415400Z",
     "start_time": "2023-11-20T02:37:56.723648100Z"
    }
   }
  },
  {
   "cell_type": "code",
   "execution_count": 125,
   "outputs": [
    {
     "data": {
      "text/html": "   <div id=\"qjS6a0\"></div>\n   <script type=\"text/javascript\" data-lets-plot-script=\"plot\">\n       (function() {\n           var plotSpec={\n\"mapping\":{\n},\n\"data\":{\n\"Violations\":[10.0,79.0,186.0,332.0,169.0,54.0,64.0,54.0,76.0,190.0,111.0,184.0,121.0,139.0,107.0,123.0,66.0,43.0],\n\"Time (10 minute intervals)\":[\"03.30 PM\",\"03.40 PM\",\"03.50 PM\",\"04.00 PM\",\"04.10 PM\",\"04.20 PM\",\"04.30 PM\",\"04.40 PM\",\"04.50 PM\",\"05.00 PM\",\"05.10 PM\",\"05.20 PM\",\"05.30 PM\",\"05.40 PM\",\"05.50 PM\",\"06.00 PM\",\"06.10 PM\",\"06.20 PM\"]\n},\n\"kind\":\"plot\",\n\"scales\":[],\n\"layers\":[{\n\"mapping\":{\n\"x\":\"Time (10 minute intervals)\",\n\"y\":\"Violations\"\n},\n\"stat\":\"identity\",\n\"position\":\"stack\",\n\"geom\":\"bar\",\n\"data\":{\n}\n}]\n};\n           var plotContainer = document.getElementById(\"qjS6a0\");\n           window.letsPlotCall(function() {{\n               LetsPlot.buildPlotFromProcessedSpecs(plotSpec, -1, -1, plotContainer);\n           }});\n       })();    \n   </script>"
     },
     "execution_count": 125,
     "metadata": {},
     "output_type": "execute_result"
    }
   ],
   "source": [
    "import kotlinx.serialization.Contextual\n",
    "import kotlinx.serialization.SerialName\n",
    "import kotlinx.serialization.Serializable\n",
    "import org.bson.types.ObjectId\n",
    "import org.litote.kmongo.*\n",
    "import java.text.SimpleDateFormat\n",
    "import java.time.*\n",
    "import kotlin.collections.count\n",
    "\n",
    "@Serializable\n",
    "data class AnticheatLog(\n",
    "    @SerialName(\"_id\")\n",
    "    val _id: @Contextual ObjectId,\n",
    "    val timestamp: Long,\n",
    "    val ping: Long,\n",
    "    val vl: Int,\n",
    "    val check: String\n",
    ")\n",
    "\n",
    "val startOfToday = LocalDate\n",
    "    .now(ZoneId.systemDefault())\n",
    "    .atTime(LocalTime.MIDNIGHT)\n",
    "    .atZone(ZoneId.systemDefault())\n",
    "    \n",
    "val formatter = SimpleDateFormat(\"hh.mm a\")\n",
    "    \n",
    "val logs = database.getCollection(\"logs\").withKMongo()\n",
    "val result = logs.aggregate<AnticheatLog>(\n",
    "    match(\n",
    "        AnticheatLog::check eq \"Double Click A\",\n",
    "        AnticheatLog::timestamp gte startOfToday.toInstant().toEpochMilli()\n",
    "    )\n",
    ").toList()\n",
    "\n",
    "val earliestTimestamp = result.minOfOrNull { it.timestamp } ?: Instant.now().toEpochMilli()\n",
    "val latestTimestamp = result.maxOfOrNull { it.timestamp } ?: Instant.now().toEpochMilli()\n",
    "\n",
    "val intervalDuration = Duration.ofMinutes(10).seconds * 1000\n",
    "\n",
    "val bins = ((earliestTimestamp / intervalDuration * intervalDuration)..(latestTimestamp / intervalDuration * intervalDuration) step intervalDuration)\n",
    "\n",
    "val violationsCountInInterval = bins.map { binStart ->\n",
    "    val binEnd = binStart + intervalDuration\n",
    "    val violationsInBin = result.count { log ->\n",
    "        log.timestamp in binStart until binEnd\n",
    "    }\n",
    "    \n",
    "    binStart to violationsInBin\n",
    "}\n",
    "\n",
    "val (timeStamps, violationCounts) = violationsCountInInterval.unzip()\n",
    "val plotData = mapOf<String, Any>(\n",
    "    \"Time (10 minute intervals)\" to timeStamps.map { formatter.format(Date(it)) },\n",
    "    \"Violations\" to violationCounts\n",
    ")\n",
    "\n",
    "val plot = letsPlot(plotData) +\n",
    "        geomBar(stat = Stat.identity) {\n",
    "            x = \"Time (10 minute intervals)\"\n",
    "            y = \"Violations\"\n",
    "        }\n",
    "\n",
    "plot"
   ],
   "metadata": {
    "collapsed": false,
    "ExecuteTime": {
     "end_time": "2023-11-20T02:37:58.807365500Z",
     "start_time": "2023-11-20T02:37:56.920415400Z"
    }
   }
  },
  {
   "cell_type": "code",
   "execution_count": 126,
   "outputs": [],
   "source": [],
   "metadata": {
    "collapsed": false,
    "ExecuteTime": {
     "end_time": "2023-11-20T02:37:58.919348700Z",
     "start_time": "2023-11-20T02:37:58.779309300Z"
    }
   }
  }
 ],
 "metadata": {
  "kernelspec": {
   "display_name": "Kotlin",
   "language": "kotlin",
   "name": "kotlin"
  },
  "language_info": {
   "name": "kotlin",
   "version": "1.9.0",
   "mimetype": "text/x-kotlin",
   "file_extension": ".kt",
   "pygments_lexer": "kotlin",
   "codemirror_mode": "text/x-kotlin",
   "nbconvert_exporter": ""
  }
 },
 "nbformat": 4,
 "nbformat_minor": 0
}
